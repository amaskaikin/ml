{
 "cells": [
  {
   "cell_type": "markdown",
   "metadata": {},
   "source": [
    "# Support Vector Machine, SVM"
   ]
  },
  {
   "cell_type": "markdown",
   "metadata": {},
   "source": [
    "### Постановка задачи\n",
    "Осуществить визуализацию двух любых признаков и посчитать коэффициент корреляции между ними; выполнить разбиение классов набора данных с помощью LDA (LinearDiscriminantAnalysis), осуществить визуализацию разбиения; осуществить классификацию с помощью методов LDA и QDA (LinearDiscriminantAnalysis и QuadraticDiscriminantAnalysis); сравнить полученные результаты.\n",
    "### Исходные данные\n",
    "Датасет: https://archive.ics.uci.edu/ml/datasets/Website+Phishing<br>\n",
    "Предметная область: Фишинговые сайты<br>\n",
    "Задача: определить, фишинговый, подозрительный или нормальный сайт<br>\n",
    "Количество записей: 1353<br>\n",
    "Количество атрибутов: 9<br>\n",
    "Атрибуты:\n",
    "1. SFH {1,-1,0}\n",
    "2. Pop-up Window  {1,-1,0}\n",
    "3. SSL final state  {1,-1,0}\n",
    "4. Request URL  {1,-1,0}\n",
    "5. URL of Anchor  {1,-1,0}\n",
    "6. Web traffic  {1,-1,0}\n",
    "7. URL Length  {1,-1,0}\n",
    "8. Age of domain  {1,-1}\n",
    "9. Having IP Address {1,-1}\n",
    "\n",
    "Во всех характеристиках значение «-1» означает «фишинговый», «0» - подозрительный, «1» - нормальный.<br>\n",
    "### Описание параметров\n",
    "__SFH (Server from handler)__ — Представление пользовательской информации, которая передается из веб страницы на сервер. Если оно пустое — сайт фишинговый, если передача идет на другой домен — подозрительный.\n",
    "__Pop-up Window__ — Наличие всплывающего окна. Если при окне не доступен правый клик, то сайт фишинговый.<br>\n",
    "__SSL final state__ — Подлинность SSL сертификата.<br>\n",
    "__Request URL__ — Количество запросов к веб странице. Если их много, то, вероятно, сайт подвергся атаке, которая заменяет содержимое (текст/картинки). Если количество запросов велико — сайт фишинговый.<br>\n",
    "__URL of Anchor__ — привязка к URL. Если при вводе адреса сайта в браузере происходит редирект на другой домен, то привязки нет. И если процент редиректов большой — сайт фишинговый.<br>\n",
    "__Web traffic__ — объем веб трафиика сайта. У нормальных сайтов объем высокий, у фишинговых — низкий.<br>\n",
    "__URL Length__ — Длина адреса сайта. Чем больше длина, тем выше вероятность, что в адрес встроен вредоносный код.<br>\n",
    "__Age of domain__ — Возраст сайта. Если сайт существует менее полугода, то его можно заподозрить как фишинговый.<br>\n",
    "__Having IP Address__ — Наличие IP адреса. Если адреса нет — сайт фишинговый.<br>"
   ]
  },
  {
   "cell_type": "markdown",
   "metadata": {},
   "source": [
    "### Загрузка датасета"
   ]
  },
  {
   "cell_type": "code",
   "execution_count": 4,
   "metadata": {},
   "outputs": [],
   "source": [
    "# coding=utf-8\n",
    "from __future__ import division\n",
    "\n",
    "from sklearn.model_selection import train_test_split\n",
    "import numpy as np\n",
    "import pandas as pd\n",
    "import matplotlib.pyplot as plt\n",
    "from sklearn import metrics\n",
    "from sklearn import preprocessing\n",
    "from sklearn.svm import SVC\n",
    "\n",
    "\n",
    "def load_data(filename):\n",
    "    return pd.read_csv(filename, header=None).values\n",
    "\n",
    "\n",
    "# разделение датасета на тестовую и обучающую выборку\n",
    "def process_dataset(name):\n",
    "    dataset = load_data(name)\n",
    "    site_attr = dataset[:, :-1]  # список атрибутов для каждого сайта\n",
    "    site_class = dataset[:, -1]  # класс (результат) сайта (норм, подозрительный, фишинговый)\n",
    "    site_class = site_class.astype(np.float64, copy=False)\n",
    "    site_attr = site_attr.astype(np.float64, copy=False)\n",
    "\n",
    "    return site_attr, site_class\n",
    "\n",
    "\n",
    "def train_split_dataset(site_attr, site_class, test_size, rnd_state):\n",
    "    data_train, data_test, class_train, class_test = \\\n",
    "        train_test_split(site_attr, site_class, test_size=test_size, random_state=rnd_state)\n",
    "\n",
    "    print_dataset_info(class_train, data_train)\n",
    "    print_dataset_info(class_test, data_test)\n",
    "\n",
    "    return data_train, data_test, class_train, class_test\n",
    "\n",
    "\n",
    "def init(name):\n",
    "    site_attr, site_class = process_dataset(name)\n",
    "    print_dataset_info(site_class, site_attr)\n",
    "\n",
    "    return site_attr, site_class"
   ]
  },
  {
   "cell_type": "markdown",
   "metadata": {},
   "source": [
    "### Вывод информации о датасете"
   ]
  },
  {
   "cell_type": "code",
   "execution_count": 3,
   "metadata": {},
   "outputs": [],
   "source": [
    "def print_dataset_info(site_class, site_attr):\n",
    "    print('Number of records:', site_class.shape[0])\n",
    "    print('Number of characters:', site_attr.shape[1])\n",
    "\n",
    "    print('Class 0 (Normal): {:.2%}'.format(list(site_class).count(-1) / site_class.shape[0]))\n",
    "    print('Class 1 (Suspicious): {:.2%}'.format(list(site_class).count(0) / site_class.shape[0]))\n",
    "    print('Class 2 (Phishing): {:.2%}'.format(list(site_class).count(1) / site_class.shape[0]))\n"
   ]
  },
  {
   "cell_type": "markdown",
   "metadata": {},
   "source": [
    "#### Whole dataset info\n",
    "('Number of records:', 1353)<br>\n",
    "('Number of characters:', 9)<br>\n",
    "Class 0 (Normal): 51.88%<br>\n",
    "Class 1 (Suspicious): 7.61%<br>\n",
    "Class 2 (Phishing): 40.50%<br>\n",
    "#### Training set\n",
    "('Number of records:', 906)<br>\n",
    "('Number of characters:', 9)<br>\n",
    "Class 0 (Normal): 51.32%<br>\n",
    "Class 1 (Suspicious): 8.17%<br>\n",
    "Class 2 (Phishing): 40.51%<br>\n",
    "#### Testing set\n",
    "('Number of records:', 447)<br>\n",
    "('Number of characters:', 9)<br>\n",
    "Class 0 (Normal): 53.02%<br>\n",
    "Class 1 (Suspicious): 6.49%<br>\n",
    "Class 2 (Phishing): 40.49%<br>"
   ]
  },
  {
   "cell_type": "markdown",
   "metadata": {},
   "source": [
    "### Визуализация"
   ]
  },
  {
   "cell_type": "code",
   "execution_count": 6,
   "metadata": {},
   "outputs": [],
   "source": [
    "def plots_draw(X, y, svc, a):\n",
    "    # create grid\n",
    "    x_min, x_max = X[:, 0].min() - 1, X[:, 0].max() + 1\n",
    "    y_min, y_max = X[:, 1].min() - 1, X[:, 1].max() + 1\n",
    "    xx, yy = np.meshgrid(np.arange(x_min, x_max),\n",
    "                         np.arange(y_min, y_max))\n",
    "    Z = svc.predict(np.c_[xx.ravel(), yy.ravel()])\n",
    "    Z = Z.reshape(xx.shape)\n",
    "    a.contourf(xx, yy, Z, cmap=plt.cm.plasma, alpha=0.8)\n",
    "    a.scatter(X[:, 0], X[:, 1], c=y, cmap=plt.cm.Paired)\n",
    " "
   ]
  },
  {
   "cell_type": "markdown",
   "metadata": {},
   "source": [
    "### SVM call"
   ]
  },
  {
   "cell_type": "code",
   "execution_count": 7,
   "metadata": {},
   "outputs": [],
   "source": [
    "# SVM call\n",
    "def svm_use(kernel, C, gamma, data_train, class_train, data_test, class_test):\n",
    "    std_train_x, std_train_y = standard_transform(data_train, class_train)\n",
    "    std_test_x, std_test_y = standard_transform(data_test, class_test)\n",
    "    svc_train = SVC(kernel=kernel, C=C, gamma=gamma).fit(std_train_x, std_train_y)\n",
    "    print('SVC: kernel = ' + kernel + ' C = ' + str(C) + ' gamma = ' + str(gamma))\n",
    "    pred_test = svc_train.predict(std_test_x)\n",
    "    print('{:.2%}'.format(metrics.accuracy_score(std_test_y, pred_test)))\n",
    "    print('\\n')\n",
    "\n",
    "\n",
    "# scale data\n",
    "def standard_transform(x, y):\n",
    "    x.reshape(-1, 1)\n",
    "    std_scale = preprocessing.StandardScaler().fit(x)\n",
    "\n",
    "    x = std_scale.transform(x)\n",
    "    return x[:, :2], y\n"
   ]
  },
  {
   "cell_type": "code",
   "execution_count": 3,
   "metadata": {},
   "outputs": [],
   "source": [
    "def main():\n",
    "    site_attr, site_class = init('fs.dataset.csv')\n",
    "    data_train, data_test, class_train, class_test = train_split_dataset(site_attr, site_class, 0.33, 123)\n",
    "    X, y = standard_transform(site_attr, site_class)\n",
    "\n",
    "    core_function_variation(X, y, data_train, class_train, data_test, class_test)\n",
    "    regularization_variation(X, y, data_train, class_train, data_test, class_test)\n",
    "    core_coefficient_variation(X, y, data_train, class_train, data_test, class_test)\n",
    "    "
   ]
  },
  {
   "cell_type": "markdown",
   "metadata": {},
   "source": [
    "#### core function variation: linear & rbf"
   ]
  },
  {
   "cell_type": "code",
   "execution_count": 5,
   "metadata": {},
   "outputs": [],
   "source": [
    "def core_function_variation(X, y, data_train, class_train, data_test, class_test):\n",
    "    f, ax = plt.subplots(1, 2, sharex=True, sharey=True, figsize=(10, 5))\n",
    "    for a, kernel in zip(ax, ('linear', 'rbf')):\n",
    "        svc = SVC(kernel=kernel, C=1, gamma=0.1).fit(X, y)\n",
    "        svm_use(kernel, 1, 0.1, data_train, class_train, data_test, class_test)\n",
    "        plots_draw(X, y, svc, a)\n",
    "    ax[0].set_title('SVC Linear Kernel')\n",
    "    ax[1].set_title('SVC RBF Kernel')\n",
    "    plt.show()"
   ]
  },
  {
   "cell_type": "markdown",
   "metadata": {},
   "source": [
    "<img src=\"Figure_1.png\" alt=\"linear & rbf\" title=\"core function variation: linear & rbf\" />"
   ]
  },
  {
   "cell_type": "markdown",
   "metadata": {},
   "source": [
    "#### regularization variation (C): 1, 10, 100, 1000"
   ]
  },
  {
   "cell_type": "code",
   "execution_count": 6,
   "metadata": {},
   "outputs": [],
   "source": [
    "def regularization_variation(X, y, data_train, class_train, data_test, class_test):\n",
    "    f, ax = plt.subplots(1, 4, sharex=True, sharey=True, figsize=(15, 5))\n",
    "    for a, C in zip(ax, (1, 10, 100, 1000)):\n",
    "        svc = SVC(kernel='rbf', C=C, gamma=0.1).fit(X, y)\n",
    "        svm_use('rbf', C, 0.1, data_train, class_train, data_test, class_test)\n",
    "        plots_draw(X, y, svc, a)\n",
    "    ax[0].set_title('C = 1')\n",
    "    ax[1].set_title('C = 10')\n",
    "    ax[2].set_title('C = 100')\n",
    "    ax[3].set_title('C = 1000')\n",
    "    plt.show()"
   ]
  },
  {
   "cell_type": "markdown",
   "metadata": {},
   "source": [
    "<img src=\"Figure_2.png\" alt=\"regularization variation (C): 1, 10, 100, 1000\" title=\"regularization variation (C): 1, 10, 100, 1000\" />"
   ]
  },
  {
   "cell_type": "markdown",
   "metadata": {},
   "source": [
    "#### core coefficient variation (gamma): 0.1, 10, 100, 1000"
   ]
  },
  {
   "cell_type": "code",
   "execution_count": 7,
   "metadata": {},
   "outputs": [],
   "source": [
    "def core_coefficient_variation(X, y, data_train, class_train, data_test, class_test):\n",
    "    f, ax = plt.subplots(1, 4, sharex=True, sharey=True, figsize=(15, 5))\n",
    "    for a, gamma in zip(ax, (0.1, 10, 100, 1000)):\n",
    "        svc = SVC(kernel='rbf', C=1, gamma=gamma).fit(X, y)\n",
    "        svm_use('rbf', 1, gamma, data_train, class_train, data_test, class_test)\n",
    "        plots_draw(X, y, svc, a)\n",
    "    ax[0].set_title('RBF gamma = 0.1')\n",
    "    ax[1].set_title('RBF gamma = 10')\n",
    "    ax[2].set_title('RBF gamma = 100')\n",
    "    ax[3].set_title('RBF gamma = 1000')\n",
    "    plt.show()"
   ]
  },
  {
   "cell_type": "markdown",
   "metadata": {},
   "source": [
    "<img src=\"Figure_3.png\" alt=\"core coefficient variation (gamma): 0.1, 10, 100, 1000\" title=\"core coefficient variation (gamma): 0.1, 10, 100, 1000\" />"
   ]
  },
  {
   "cell_type": "markdown",
   "metadata": {},
   "source": [
    "| Algorithm        | Params         | Accurancy  |\n",
    "| -----------------|----------------|----------|\n",
    "| linear      | C = 1, gamma = 0.1 | 81.66% |\n",
    "| rbf      | C = 1, gamma = 0.1      | 82.77% |\n",
    "| rbf      | C = 10, gamma = 0.1      |  82.77%  |\n",
    "| rbf      | C = 100, gamma = 0.1      |  82.77%  |\n",
    "| rbf      | C = 1000, gamma = 0.1      |  82.77%  |\n",
    "| rbf      | C = 1, gamma = 10      |  82.77%  |\n",
    "| rbf      | C = 1, gamma = 100      |  82.77%  |\n",
    "| rbf      | C = 1, gamma = 1000      |  82.77%  |"
   ]
  },
  {
   "cell_type": "markdown",
   "metadata": {},
   "source": [
    "#### Вывод\n",
    "Согласно результатам, полученным в ходе лабораторной работы, можно сделать вывод о том, что на исследуемом датасете точность резкльтата фактически не влияет метода. Это связано с особенностью датасета - все его параметры могут принимать только три значения: [-1; 1]. Варьирование коэффициентов для SVC метода с rbf ядром на точность (всегда равна 82.77%), как уже было сказано, не влияло, а метод с linear ядром показал немного меньший результат - 79.80%. Визуализация методов подтверждает факт невлияния варьирования параметров на общую точность"
   ]
  }
 ],
 "metadata": {
  "kernelspec": {
   "display_name": "Python 2",
   "language": "python",
   "name": "python2"
  },
  "language_info": {
   "codemirror_mode": {
    "name": "ipython",
    "version": 2
   },
   "file_extension": ".py",
   "mimetype": "text/x-python",
   "name": "python",
   "nbconvert_exporter": "python",
   "pygments_lexer": "ipython2",
   "version": "2.7.12"
  }
 },
 "nbformat": 4,
 "nbformat_minor": 2
}
