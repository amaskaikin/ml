{
 "cells": [
  {
   "cell_type": "markdown",
   "metadata": {},
   "source": [
    "# Метрики для оценки алгоритмов машинного обучения в Python"
   ]
  },
  {
   "cell_type": "markdown",
   "metadata": {},
   "source": [
    "### Постановка задачи\n",
    "Рассмотреть различные метрики качества классификации, входящих в состав библиотеки scikit-learn. <br>\n",
    "Для двух любых методов классификации из предыдущих работ и своего набора данных посчитать следующие метрики качества:<br>\n",
    "    a. Точность классификации (Classification Accuracy)<br>\n",
    "    b. Логарифм функции правдоподобия (Logarithmic Loss)<br>\n",
    "    c. Область под кривой ошибок (Area Under ROC Curve)<br>\n",
    "    d. Матрица неточностей (Confusion Matrix)<br>\n",
    "    e. Отчет классификации (Classification Report)<br>\n",
    "Для более точных результатов использовать кросс-валидацию; cравнить применимость используемых классификаторов, основываясь на полученных метриках\n",
    "### Исходные данные\n",
    "Датасет: https://archive.ics.uci.edu/ml/datasets/Website+Phishing<br>\n",
    "Предметная область: Фишинговые сайты<br>\n",
    "Задача: определить, фишинговый, подозрительный или нормальный сайт<br>\n",
    "Количество записей: 1353<br>\n",
    "Количество атрибутов: 9<br>\n",
    "Атрибуты:\n",
    "1. SFH {1,-1,0}\n",
    "2. Pop-up Window  {1,-1,0}\n",
    "3. SSL final state  {1,-1,0}\n",
    "4. Request URL  {1,-1,0}\n",
    "5. URL of Anchor  {1,-1,0}\n",
    "6. Web traffic  {1,-1,0}\n",
    "7. URL Length  {1,-1,0}\n",
    "8. Age of domain  {1,-1}\n",
    "9. Having IP Address {1,-1}\n",
    "\n",
    "Во всех характеристиках значение «-1» означает «фишинговый», «0» - подозрительный, «1» - нормальный.<br>\n",
    "### Описание параметров\n",
    "__SFH (Server from handler)__ — Представление пользовательской информации, которая передается из веб страницы на сервер. Если оно пустое — сайт фишинговый, если передача идет на другой домен — подозрительный.\n",
    "__Pop-up Window__ — Наличие всплывающего окна. Если при окне не доступен правый клик, то сайт фишинговый.<br>\n",
    "__SSL final state__ — Подлинность SSL сертификата.<br>\n",
    "__Request URL__ — Количество запросов к веб странице. Если их много, то, вероятно, сайт подвергся атаке, которая заменяет содержимое (текст/картинки). Если количество запросов велико — сайт фишинговый.<br>\n",
    "__URL of Anchor__ — привязка к URL. Если при вводе адреса сайта в браузере происходит редирект на другой домен, то привязки нет. И если процент редиректов большой — сайт фишинговый.<br>\n",
    "__Web traffic__ — объем веб трафиика сайта. У нормальных сайтов объем высокий, у фишинговых — низкий.<br>\n",
    "__URL Length__ — Длина адреса сайта. Чем больше длина, тем выше вероятность, что в адрес встроен вредоносный код.<br>\n",
    "__Age of domain__ — Возраст сайта. Если сайт существует менее полугода, то его можно заподозрить как фишинговый.<br>\n",
    "__Having IP Address__ — Наличие IP адреса. Если адреса нет — сайт фишинговый.<br>"
   ]
  },
  {
   "cell_type": "markdown",
   "metadata": {},
   "source": [
    "### Загрузка датасета"
   ]
  },
  {
   "cell_type": "code",
   "execution_count": 1,
   "metadata": {},
   "outputs": [],
   "source": [
    "# coding=utf-8\n",
    "from __future__ import division\n",
    "\n",
    "from sklearn.model_selection import train_test_split\n",
    "import numpy as np\n",
    "import pandas as pd\n",
    "import matplotlib.pyplot as plt\n",
    "from sklearn import metrics\n",
    "from sklearn import preprocessing\n",
    "from sklearn.svm import SVC\n",
    "\n",
    "\n",
    "def load_data(filename):\n",
    "    return pd.read_csv(filename, header=None).values\n",
    "\n",
    "\n",
    "# разделение датасета на тестовую и обучающую выборку\n",
    "def process_dataset(name):\n",
    "    dataset = load_data(name)\n",
    "    site_attr = dataset[:, :-1]  # список атрибутов для каждого сайта\n",
    "    site_class = dataset[:, -1]  # класс (результат) сайта (норм, подозрительный, фишинговый)\n",
    "    site_class = site_class.astype(np.float64, copy=False)\n",
    "    site_attr = site_attr.astype(np.float64, copy=False)\n",
    "\n",
    "    return site_attr, site_class\n",
    "\n",
    "\n",
    "def train_split_dataset(site_attr, site_class, test_size, rnd_state):\n",
    "    data_train, data_test, class_train, class_test = \\\n",
    "        train_test_split(site_attr, site_class, test_size=test_size, random_state=rnd_state)\n",
    "\n",
    "    print_dataset_info(class_train, data_train)\n",
    "    print_dataset_info(class_test, data_test)\n",
    "\n",
    "    return data_train, data_test, class_train, class_test\n",
    "\n",
    "\n",
    "def init(name):\n",
    "    site_attr, site_class = process_dataset(name)\n",
    "    print_dataset_info(site_class, site_attr)\n",
    "\n",
    "    return site_attr, site_class"
   ]
  },
  {
   "cell_type": "markdown",
   "metadata": {},
   "source": [
    "### Вывод информации о датасете"
   ]
  },
  {
   "cell_type": "code",
   "execution_count": 3,
   "metadata": {},
   "outputs": [],
   "source": [
    "def print_dataset_info(site_class, site_attr):\n",
    "    print('Number of records:', site_class.shape[0])\n",
    "    print('Number of characters:', site_attr.shape[1])\n",
    "\n",
    "    print('Class 0 (Normal): {:.2%}'.format(list(site_class).count(-1) / site_class.shape[0]))\n",
    "    print('Class 1 (Suspicious): {:.2%}'.format(list(site_class).count(0) / site_class.shape[0]))\n",
    "    print('Class 2 (Phishing): {:.2%}'.format(list(site_class).count(1) / site_class.shape[0]))\n"
   ]
  },
  {
   "cell_type": "markdown",
   "metadata": {},
   "source": [
    "#### Whole dataset info\n",
    "('Number of records:', 1353)<br>\n",
    "('Number of characters:', 9)<br>\n",
    "Class 0 (Normal): 51.88%<br>\n",
    "Class 1 (Suspicious): 7.61%<br>\n",
    "Class 2 (Phishing): 40.50%<br>\n",
    "#### Training set\n",
    "('Number of records:', 906)<br>\n",
    "('Number of characters:', 9)<br>\n",
    "Class 0 (Normal): 51.32%<br>\n",
    "Class 1 (Suspicious): 8.17%<br>\n",
    "Class 2 (Phishing): 40.51%<br>\n",
    "#### Testing set\n",
    "('Number of records:', 447)<br>\n",
    "('Number of characters:', 9)<br>\n",
    "Class 0 (Normal): 53.02%<br>\n",
    "Class 1 (Suspicious): 6.49%<br>\n",
    "Class 2 (Phishing): 40.49%<br>"
   ]
  },
  {
   "cell_type": "markdown",
   "metadata": {},
   "source": [
    "### Получение метрик"
   ]
  },
  {
   "cell_type": "markdown",
   "metadata": {},
   "source": [
    "#### Используемые методы классификации: _KNeighborsClassifier_, _LDA_"
   ]
  },
  {
   "cell_type": "code",
   "execution_count": 2,
   "metadata": {},
   "outputs": [],
   "source": [
    "def get_metrics(site_attr, site_class, model, k_fold, scoring):\n",
    "    result = cross_val_score(model, site_attr, site_class, cv=k_fold, scoring=scoring)\n",
    "    print(\" LDA:\")\n",
    "    print (\" - mean: %0.5f\" % result.mean())\n",
    "    print (\" - standart deviation: %0.5f\" % result.std())\n",
    "    result = cross_val_score(model, site_attr, site_class, cv=k_fold, scoring=scoring)\n",
    "    print(\" Neighbours:\")\n",
    "    print (\" - mean: %0.5f\" % result.mean())\n",
    "    print (\" - standart deviation: %0.5f\" % result.std())\n",
    " "
   ]
  },
  {
   "cell_type": "code",
   "execution_count": 3,
   "metadata": {},
   "outputs": [],
   "source": [
    "def get_confusion_matrix(data_train, data_test, class_train, class_test, model):\n",
    "    model.fit(data_train, class_train)\n",
    "    model_predicted = model.predict(data_test)\n",
    "    model_matrix = confusion_matrix(class_test, model_predicted)\n",
    "    print(model_matrix)\n",
    "    return model_predicted\n",
    "\n",
    "\n",
    "def get_classification_report(model_predicted, class_test):\n",
    "    model_r = classification_report(class_test, model_predicted)\n",
    "    print(model_r)"
   ]
  },
  {
   "cell_type": "code",
   "execution_count": 8,
   "metadata": {},
   "outputs": [],
   "source": [
    "def main():\n",
    "    site_attr, site_class = init('fs.dataset.csv')\n",
    "    data_train, data_test, class_train, class_test = train_split_dataset(site_attr, site_class, 0.33, 77)\n",
    "    k_fold = KFold(n_splits=10, random_state=77, shuffle=True)\n",
    "    lda = LDA()\n",
    "    neighbours = KNeighborsClassifier()\n",
    "    \n",
    "    print(\"Accuracy:\")\n",
    "    get_metrics(site_attr, site_class, lda, k_fold, 'accuracy')\n",
    "    get_metrics(site_attr, site_class, neighbours, k_fold, 'accuracy')\n",
    "\n",
    "    print(\"Logarithmic Loss:\")\n",
    "    get_metrics(site_attr, site_class, lda, k_fold, 'neg_log_loss')\n",
    "    get_metrics(site_attr, site_class, neighbours, k_fold, 'neg_log_loss')\n",
    "\n",
    "    print(\"Area Under ROC Curve:\")\n",
    "    get_metrics(site_attr, site_class, lda, k_fold, None)\n",
    "    get_metrics(site_attr, site_class, neighbours, k_fold, None)\n",
    "\n",
    "    print(\"Confusion Matrices:\")\n",
    "    print(\" - LDA:\")\n",
    "    lda_predicted = get_confusion_matrix(data_train, data_test, class_train, class_test, lda)\n",
    "    print(\" - Neighbours:\")\n",
    "    neighbours_predicted = get_confusion_matrix(data_train, data_test, class_train, class_test, neighbours)\n",
    "\n",
    "    print(\"Classification Reports:\")\n",
    "    print(\" - LDA:\")\n",
    "    get_classification_report(lda_predicted, class_test)\n",
    "    print(\" - Neighbours:\")\n",
    "    get_classification_report(neighbours_predicted, class_test)"
   ]
  },
  {
   "cell_type": "markdown",
   "metadata": {},
   "source": [
    "### Accuracy:"
   ]
  },
  {
   "cell_type": "markdown",
   "metadata": {},
   "source": [
    "LDA:\n",
    " - mean: 0.82336\n",
    " - standart deviation: 0.02531 \n",
    " \n",
    "Neighbours:\n",
    " - mean: 0.87363\n",
    " - standart deviation: 0.01809"
   ]
  },
  {
   "cell_type": "markdown",
   "metadata": {},
   "source": [
    "### Logarithmic Loss:"
   ]
  },
  {
   "cell_type": "markdown",
   "metadata": {},
   "source": [
    "LDA:\n",
    " - mean: -0.45486\n",
    " - standart deviation: 0.03024\n",
    "    \n",
    "Neighbours:\n",
    " - mean: -0.78234\n",
    " - standart deviation: 0.46922"
   ]
  },
  {
   "cell_type": "markdown",
   "metadata": {},
   "source": [
    "### Area Under ROC Curve:"
   ]
  },
  {
   "cell_type": "markdown",
   "metadata": {},
   "source": [
    "LDA:\n",
    " - mean: 0.82336\n",
    " - standart deviation: 0.02531\n",
    "    \n",
    "Neighbours:\n",
    " - mean: 0.87363\n",
    " - standart deviation: 0.01809"
   ]
  },
  {
   "cell_type": "markdown",
   "metadata": {},
   "source": [
    "### Confusion Matrices\n",
    "##### LDA:"
   ]
  },
  {
   "cell_type": "markdown",
   "metadata": {},
   "source": [
    "\\begin{vmatrix} \n",
    "204 &  1  & 18 \\\\\n",
    "18 &  5  & 14 \\\\\n",
    "21 &  2  & 164 \\\\\n",
    "\\end{vmatrix}"
   ]
  },
  {
   "cell_type": "markdown",
   "metadata": {},
   "source": [
    "##### Neighbours:"
   ]
  },
  {
   "cell_type": "markdown",
   "metadata": {},
   "source": [
    "\\begin{vmatrix} \n",
    "204 &  4  & 15 \\\\\n",
    "7 &  22  & 8 \\\\\n",
    "15 &  5  & 167 \\\\\n",
    "\\end{vmatrix}"
   ]
  },
  {
   "cell_type": "markdown",
   "metadata": {},
   "source": [
    "### Classification Reports:\n",
    "##### LDA:"
   ]
  },
  {
   "cell_type": "markdown",
   "metadata": {},
   "source": [
    "|              | precision      | recall  | f1-score | support |\n",
    "| ------------ | -------------- | ------- | -------- | ------- |\n",
    "| -1           | 0.84           |   0.91  |   0.88   |   223   |\n",
    "| 0            | 0.62           |   0.14  |   0.22   |   37    |            \n",
    "| 1            | 0.84           |   0.88  |   0.86   |   187   | \n",
    "|              |                |         |          |         |\n",
    "|avg / total   |    0.82        |0.83     | 0.81     | 447"
   ]
  },
  {
   "cell_type": "markdown",
   "metadata": {},
   "source": [
    "##### Neighbours:"
   ]
  },
  {
   "cell_type": "markdown",
   "metadata": {},
   "source": [
    "|              | precision      | recall  | f1-score | support |\n",
    "| ------------ | -------------- | ------- | -------- | ------- |\n",
    "| -1           | 0.90           |   0.91  |   0.91   |   223   |\n",
    "| 0            | 0.71           |   0.59  |   0.65   |   37    |            \n",
    "| 1            | 0.88           |   0.89  |   0.89   |   187   | \n",
    "|              |                |         |          |         |\n",
    "|avg / total   |    0.88        |0.88     | 0.88     | 447"
   ]
  },
  {
   "cell_type": "markdown",
   "metadata": {},
   "source": [
    "#### Вывод\n",
    "Согласно результатам, полученным в ходе лабораторной работы, можно сделать вывод, что на исследуемом датасете основные метрические показатели (точность логарифм функции правдоподобия, область под кривой ошибок) у метода ближайших соседей выше, чем у метода линейного дискриминантного анализа. По матрице неточностей был построен отчет классификации, иллюстрирующий показатели точности классификации и полноты. Из данного отчета также видно, что метод ближайших соседей на данном датасете оказался точнее - 0.88 против 0.82. \\"
   ]
  },
  {
   "cell_type": "code",
   "execution_count": null,
   "metadata": {},
   "outputs": [],
   "source": []
  }
 ],
 "metadata": {
  "kernelspec": {
   "display_name": "Python 2",
   "language": "python",
   "name": "python2"
  },
  "language_info": {
   "codemirror_mode": {
    "name": "ipython",
    "version": 2
   },
   "file_extension": ".py",
   "mimetype": "text/x-python",
   "name": "python",
   "nbconvert_exporter": "python",
   "pygments_lexer": "ipython2",
   "version": "2.7.12"
  }
 },
 "nbformat": 4,
 "nbformat_minor": 2
}
